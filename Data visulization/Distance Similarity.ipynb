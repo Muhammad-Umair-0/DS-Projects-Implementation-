{
 "cells": [
  {
   "cell_type": "code",
   "execution_count": 2,
   "id": "b90b362b",
   "metadata": {},
   "outputs": [],
   "source": [
    "from math import*"
   ]
  },
  {
   "cell_type": "code",
   "execution_count": 8,
   "id": "164349fe",
   "metadata": {},
   "outputs": [
    {
     "name": "stdout",
     "output_type": "stream",
     "text": [
      "18.083141320025124\n"
     ]
    }
   ],
   "source": [
    "# Ecludian Distance \n",
    "def euclidean_distance(x,y):\n",
    "    return sqrt(sum(pow(a-b,2) for a,b in zip(x,y)))\n",
    "\n",
    "a = [2,4,5,6,9]\n",
    "b = [3,4,6,7,-9]\n",
    "print(euclidean_distance(a,b))"
   ]
  },
  {
   "cell_type": "code",
   "execution_count": null,
   "id": "43e7c3f8",
   "metadata": {},
   "outputs": [],
   "source": []
  }
 ],
 "metadata": {
  "kernelspec": {
   "display_name": "base",
   "language": "python",
   "name": "python3"
  },
  "language_info": {
   "codemirror_mode": {
    "name": "ipython",
    "version": 3
   },
   "file_extension": ".py",
   "mimetype": "text/x-python",
   "name": "python",
   "nbconvert_exporter": "python",
   "pygments_lexer": "ipython3",
   "version": "3.12.7"
  }
 },
 "nbformat": 4,
 "nbformat_minor": 5
}
